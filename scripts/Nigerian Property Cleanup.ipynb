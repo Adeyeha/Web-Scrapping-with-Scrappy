{
 "cells": [
  {
   "cell_type": "code",
   "execution_count": 1,
   "id": "f8e91a51",
   "metadata": {},
   "outputs": [],
   "source": [
    "import pandas as pd\n",
    "import os\n",
    "from pandasql import sqldf\n",
    "import ast\n",
    "import numpy as np"
   ]
  },
  {
   "cell_type": "code",
   "execution_count": 2,
   "id": "919df171",
   "metadata": {},
   "outputs": [],
   "source": [
    "base_dir = r'C:\\Users\\adeyehat\\Desktop\\scrappy\\homefund\\property-pro'"
   ]
  },
  {
   "cell_type": "code",
   "execution_count": 3,
   "id": "10edb722",
   "metadata": {
    "scrolled": true
   },
   "outputs": [],
   "source": [
    "dt = pd.read_csv(os.path.join(base_dir,r'data\\nigerianpropertysale.csv'))"
   ]
  },
  {
   "cell_type": "code",
   "execution_count": 4,
   "id": "32be946e",
   "metadata": {},
   "outputs": [],
   "source": [
    "dt.rename(columns = {'description':'description_1'},inplace =True)"
   ]
  },
  {
   "cell_type": "markdown",
   "id": "3f37f7d7",
   "metadata": {},
   "source": [
    "#### Main Details"
   ]
  },
  {
   "cell_type": "code",
   "execution_count": 5,
   "id": "958c87d4",
   "metadata": {},
   "outputs": [],
   "source": [
    "dt['main_details'] = dt['main_details'].apply(lambda x:ast.literal_eval(x))"
   ]
  },
  {
   "cell_type": "code",
   "execution_count": 6,
   "id": "90ea82cf",
   "metadata": {},
   "outputs": [],
   "source": [
    "dt = pd.concat([dt,dt['main_details'].apply(pd.Series)],axis=1).drop(['main_details','depth','download_timeout','download_slot','download_latency','redirect_times','redirect_ttl','redirect_urls','redirect_reasons'],axis = 1)"
   ]
  },
  {
   "cell_type": "markdown",
   "id": "239167d1",
   "metadata": {},
   "source": [
    "#### Agent Details"
   ]
  },
  {
   "cell_type": "code",
   "execution_count": 7,
   "id": "670fcca8",
   "metadata": {},
   "outputs": [],
   "source": [
    "dt['agent_dets'] = dt['agent_dets'].apply(lambda x :' '.join([x for x in str(x).split(',') if x not in ['\\n',' ']]))"
   ]
  },
  {
   "cell_type": "code",
   "execution_count": 8,
   "id": "38fb9158",
   "metadata": {},
   "outputs": [],
   "source": [
    "dt['agent_dets'] = dt['agent_dets'].apply(lambda x : [x for x in str(x).split('\\xa0') if x not in ['','\\n',' ','\\n ','  ','\\n  ','\\n    ','\\nO  ','  \\n  ','\\n \\n  ']])"
   ]
  },
  {
   "cell_type": "code",
   "execution_count": 9,
   "id": "582e0dd7",
   "metadata": {},
   "outputs": [],
   "source": [
    "dt['agent_dets_counts'] = dt['agent_dets'].apply(lambda x : len(x))\n",
    "dt[['agent_registration_1','agent_registration_2','agent_registration_3','agent_registration_4']] = None"
   ]
  },
  {
   "cell_type": "code",
   "execution_count": 10,
   "id": "048524ab",
   "metadata": {},
   "outputs": [],
   "source": [
    "for index,row in dt.iterrows():\n",
    "    if row.agent_dets_counts == 1:\n",
    "        dt.loc[index,'agent_registration_1'] = row.agent_dets[0]\n",
    "    elif row.agent_dets_counts == 2:\n",
    "        if str(row.agent_dets[0])[1] == 'n': \n",
    "            dt.loc[index,'agent_registration_2'] = row.agent_dets[0]\n",
    "            dt.loc[index,'agent_registration_4'] = row.agent_dets[1]\n",
    "        else:\n",
    "            dt.loc[index,'agent_registration_1'] = row.agent_dets[0]\n",
    "            dt.loc[index,'agent_registration_4'] = row.agent_dets[1]\n",
    "    elif row.agent_dets_counts == 3:\n",
    "        dt.loc[index,'agent_registration_1'] = row.agent_dets[0]\n",
    "        dt.loc[index,'agent_registration_2'] = row.agent_dets[1]\n",
    "        dt.loc[index,'agent_registration_4'] = row.agent_dets[2]\n",
    "    elif row.agent_dets_counts == 4:\n",
    "        dt.loc[index,'agent_registration_1'] = row.agent_dets[0]\n",
    "        dt.loc[index,'agent_registration_2'] = row.agent_dets[1]\n",
    "        dt.loc[index,'agent_registration_3'] = row.agent_dets[2]\n",
    "        dt.loc[index,'agent_registration_4'] = row.agent_dets[3]"
   ]
  },
  {
   "cell_type": "markdown",
   "id": "bd1b42ff",
   "metadata": {},
   "source": [
    "#### Agent Website"
   ]
  },
  {
   "cell_type": "code",
   "execution_count": 11,
   "id": "77291fb5",
   "metadata": {},
   "outputs": [],
   "source": [
    "dt['agent_website'] = dt['agent_website'].apply(lambda x :[x for x in str(x).split(',') if x not in ['#']])"
   ]
  },
  {
   "cell_type": "code",
   "execution_count": 12,
   "id": "2d576506",
   "metadata": {},
   "outputs": [],
   "source": [
    "dt[['agent_website_1','agent_website_2']] = None"
   ]
  },
  {
   "cell_type": "code",
   "execution_count": 13,
   "id": "0663d6c3",
   "metadata": {},
   "outputs": [],
   "source": [
    "dt[['agent_website_1','agent_website_2']] = dt.apply((lambda x : pd.Series([x.agent_website[0],x.agent_website[-1]])),axis=1)"
   ]
  },
  {
   "cell_type": "markdown",
   "id": "4edc5661",
   "metadata": {},
   "source": [
    "#### Images"
   ]
  },
  {
   "cell_type": "code",
   "execution_count": 14,
   "id": "78db8da7",
   "metadata": {},
   "outputs": [],
   "source": [
    "dt['images'] = dt['images'].apply(lambda x :[x for x in str(x).split(',')])"
   ]
  },
  {
   "cell_type": "markdown",
   "id": "f06e7f5d",
   "metadata": {},
   "source": [
    "#### Description"
   ]
  },
  {
   "cell_type": "code",
   "execution_count": 15,
   "id": "f636566c",
   "metadata": {},
   "outputs": [],
   "source": [
    "dt['description'] = dt.apply((lambda x : str(x.description_1).replace('\\n','')),axis = 1)"
   ]
  },
  {
   "cell_type": "code",
   "execution_count": 16,
   "id": "aa2f78bf",
   "metadata": {},
   "outputs": [],
   "source": [
    "dt.drop('description_1',axis = 1,inplace =True)"
   ]
  },
  {
   "cell_type": "markdown",
   "id": "c3b67cc9",
   "metadata": {},
   "source": [
    "#### Title"
   ]
  },
  {
   "cell_type": "code",
   "execution_count": 17,
   "id": "7aef6aba",
   "metadata": {},
   "outputs": [],
   "source": [
    "dt['title'] = dt.apply((lambda x : x.title[0]),axis = 1)"
   ]
  },
  {
   "cell_type": "markdown",
   "id": "340c69b2",
   "metadata": {},
   "source": [
    "#### Address"
   ]
  },
  {
   "cell_type": "code",
   "execution_count": 18,
   "id": "4bff9c1b",
   "metadata": {},
   "outputs": [],
   "source": [
    "dt['address'] = dt.apply((lambda x : str(x.address).replace('\\xa0','').strip()),axis = 1)"
   ]
  },
  {
   "cell_type": "markdown",
   "id": "4807d932",
   "metadata": {},
   "source": [
    "#### Added on"
   ]
  },
  {
   "cell_type": "code",
   "execution_count": 19,
   "id": "1fbe7477",
   "metadata": {},
   "outputs": [],
   "source": [
    "dt['added_on'] = dt['added_on'].str.replace(' on','')"
   ]
  },
  {
   "cell_type": "code",
   "execution_count": 20,
   "id": "376a5d67",
   "metadata": {},
   "outputs": [],
   "source": [
    "dt['added_on'] = dt['added_on'].str.split(',')"
   ]
  },
  {
   "cell_type": "code",
   "execution_count": 21,
   "id": "84e90e44",
   "metadata": {},
   "outputs": [],
   "source": [
    "dt['added_on_count'] = dt['added_on'].apply(lambda x: len(x))"
   ]
  },
  {
   "cell_type": "code",
   "execution_count": 22,
   "id": "d42fc21a",
   "metadata": {},
   "outputs": [],
   "source": [
    "def handle_added_on(value):\n",
    "    output = {}\n",
    "    for x in value:\n",
    "        if x[0:3].lower() == 'add':\n",
    "            output['Added'] = str(x).replace('Added','').strip()\n",
    "        elif x[0:3].lower() == 'upd':\n",
    "            output['Updated'] = str(x).replace('Updated','').strip()\n",
    "    if 'Added' in output.keys() and 'Updated' not in output.keys():\n",
    "        output['Updated'] = None\n",
    "    elif 'Updated' in output.keys() and 'Added' not in output.keys():\n",
    "        output['Added'] = None\n",
    "    return output"
   ]
  },
  {
   "cell_type": "code",
   "execution_count": 23,
   "id": "0c81af18",
   "metadata": {},
   "outputs": [],
   "source": [
    "dt['added_on_1'] = dt['added_on'].apply(lambda x: handle_added_on(x))"
   ]
  },
  {
   "cell_type": "code",
   "execution_count": 24,
   "id": "7cf5914c",
   "metadata": {},
   "outputs": [],
   "source": [
    "dt = pd.concat([dt,dt['added_on_1'].apply(pd.Series)],axis=1)"
   ]
  },
  {
   "cell_type": "code",
   "execution_count": 25,
   "id": "05135cf2",
   "metadata": {},
   "outputs": [
    {
     "data": {
      "text/html": [
       "<div>\n",
       "<style scoped>\n",
       "    .dataframe tbody tr th:only-of-type {\n",
       "        vertical-align: middle;\n",
       "    }\n",
       "\n",
       "    .dataframe tbody tr th {\n",
       "        vertical-align: top;\n",
       "    }\n",
       "\n",
       "    .dataframe thead th {\n",
       "        text-align: right;\n",
       "    }\n",
       "</style>\n",
       "<table border=\"1\" class=\"dataframe\">\n",
       "  <thead>\n",
       "    <tr style=\"text-align: right;\">\n",
       "      <th></th>\n",
       "      <th>agent_name</th>\n",
       "      <th>agent_dets</th>\n",
       "      <th>agent_website</th>\n",
       "      <th>images</th>\n",
       "      <th>table</th>\n",
       "      <th>title</th>\n",
       "      <th>front_image</th>\n",
       "      <th>details_link</th>\n",
       "      <th>content_title</th>\n",
       "      <th>address</th>\n",
       "      <th>...</th>\n",
       "      <th>agent_registration_1</th>\n",
       "      <th>agent_registration_2</th>\n",
       "      <th>agent_registration_3</th>\n",
       "      <th>agent_registration_4</th>\n",
       "      <th>agent_website_1</th>\n",
       "      <th>agent_website_2</th>\n",
       "      <th>added_on_count</th>\n",
       "      <th>added_on_1</th>\n",
       "      <th>Added</th>\n",
       "      <th>Updated</th>\n",
       "    </tr>\n",
       "  </thead>\n",
       "  <tbody>\n",
       "  </tbody>\n",
       "</table>\n",
       "<p>0 rows × 27 columns</p>\n",
       "</div>"
      ],
      "text/plain": [
       "Empty DataFrame\n",
       "Columns: [agent_name, agent_dets, agent_website, images, table, title, front_image, details_link, content_title, address, description, added_on, price, agent, agent_no, features, agent_dets_counts, agent_registration_1, agent_registration_2, agent_registration_3, agent_registration_4, agent_website_1, agent_website_2, added_on_count, added_on_1, Added, Updated]\n",
       "Index: []\n",
       "\n",
       "[0 rows x 27 columns]"
      ]
     },
     "execution_count": 25,
     "metadata": {},
     "output_type": "execute_result"
    }
   ],
   "source": [
    "dt[dt['added_on_count'] == 2]"
   ]
  },
  {
   "cell_type": "markdown",
   "id": "7b69cfdb",
   "metadata": {},
   "source": [
    "#### Price"
   ]
  },
  {
   "cell_type": "code",
   "execution_count": 26,
   "id": "4ee0523a",
   "metadata": {},
   "outputs": [],
   "source": [
    "dt['currency'] = dt['price'].apply(lambda x : x[0])"
   ]
  },
  {
   "cell_type": "code",
   "execution_count": 27,
   "id": "6d423a65",
   "metadata": {},
   "outputs": [],
   "source": [
    "dt['price'] = dt['price'].apply(lambda x: int(''.join(''.join(x[1:]).split(','))))"
   ]
  },
  {
   "cell_type": "code",
   "execution_count": 28,
   "id": "8deff46b",
   "metadata": {},
   "outputs": [
    {
     "data": {
      "text/plain": [
       "Index(['agent_name', 'agent_dets', 'agent_website', 'images', 'table', 'title',\n",
       "       'front_image', 'details_link', 'content_title', 'address',\n",
       "       'description', 'added_on', 'price', 'agent', 'agent_no', 'features',\n",
       "       'agent_dets_counts', 'agent_registration_1', 'agent_registration_2',\n",
       "       'agent_registration_3', 'agent_registration_4', 'agent_website_1',\n",
       "       'agent_website_2', 'added_on_count', 'added_on_1', 'Added', 'Updated',\n",
       "       'currency'],\n",
       "      dtype='object')"
      ]
     },
     "execution_count": 28,
     "metadata": {},
     "output_type": "execute_result"
    }
   ],
   "source": [
    "dt.columns"
   ]
  },
  {
   "cell_type": "markdown",
   "id": "43e30ebc",
   "metadata": {},
   "source": [
    "#### Agent"
   ]
  },
  {
   "cell_type": "code",
   "execution_count": 29,
   "id": "672ccfa6",
   "metadata": {},
   "outputs": [],
   "source": [
    "dt.agent = dt.agent.str.replace('\\n','')"
   ]
  },
  {
   "cell_type": "code",
   "execution_count": 30,
   "id": "9c839102",
   "metadata": {},
   "outputs": [],
   "source": [
    "dt.agent_no = dt.agent_no.apply(lambda x: ''.join(x).replace('\\n','').replace('\\xa0','').strip())"
   ]
  },
  {
   "cell_type": "markdown",
   "id": "1f1e8833",
   "metadata": {},
   "source": [
    "#### Features"
   ]
  },
  {
   "cell_type": "code",
   "execution_count": 31,
   "id": "b9b62371",
   "metadata": {},
   "outputs": [],
   "source": [
    "###check for even numbers of cols with mod"
   ]
  },
  {
   "cell_type": "code",
   "execution_count": 32,
   "id": "dfac2675",
   "metadata": {},
   "outputs": [],
   "source": [
    "dt['features_format'] = dt.features.apply(lambda x: [y for y in x if y not in ['sqm']])"
   ]
  },
  {
   "cell_type": "code",
   "execution_count": 33,
   "id": "db2dc96e",
   "metadata": {},
   "outputs": [],
   "source": [
    "dt['features_count'] = dt.features_format.apply(lambda x: len(x))"
   ]
  },
  {
   "cell_type": "code",
   "execution_count": 34,
   "id": "a98c4502",
   "metadata": {},
   "outputs": [
    {
     "data": {
      "text/plain": [
       "Series([], Name: features_format, dtype: object)"
      ]
     },
     "execution_count": 34,
     "metadata": {},
     "output_type": "execute_result"
    }
   ],
   "source": [
    "dt[dt['features_count']%2 != 0]['features_format']"
   ]
  },
  {
   "cell_type": "code",
   "execution_count": 35,
   "id": "ef95eaf3",
   "metadata": {},
   "outputs": [],
   "source": [
    "def group_in_twos(value):\n",
    "    y = {}\n",
    "    for x in range(0,len(value),2):\n",
    "        if str(value[x+1])[-1] ==  's':\n",
    "            key = value[x+1][0:-1]\n",
    "        else:\n",
    "            key = value[x+1]\n",
    "        y[key] = value[x]\n",
    "    return y"
   ]
  },
  {
   "cell_type": "code",
   "execution_count": 36,
   "id": "f2d99921",
   "metadata": {},
   "outputs": [],
   "source": [
    "dt['features_format'] = dt.features_format.apply(lambda x: group_in_twos(x))"
   ]
  },
  {
   "cell_type": "code",
   "execution_count": 37,
   "id": "aa6e8235",
   "metadata": {},
   "outputs": [
    {
     "data": {
      "text/plain": [
       "0                                  {'Covered Area': '500'}\n",
       "1        {'Bedroom': '5', 'Bathroom': '5', 'Toilet': '6...\n",
       "2        {'Bedroom': '5', 'Bathroom': '5', 'Toilet': '6...\n",
       "3        {'Bedroom': '5', 'Bathroom': '5', 'Toilet': '6...\n",
       "4        {'Bedroom': '5', 'Bathroom': '5', 'Toilet': '6...\n",
       "                               ...                        \n",
       "26125     {'Bedroom': '4', 'Bathroom': '4', 'Toilet': '5'}\n",
       "26126     {'Bedroom': '3', 'Bathroom': '4', 'Toilet': '4'}\n",
       "26127    {'Bedroom': '4', 'Bathroom': '4', 'Toilet': '5...\n",
       "26128    {'Bedroom': '4', 'Bathroom': '4', 'Toilet': '5...\n",
       "26129    {'Parking Space': '500', 'Total Area': '500', ...\n",
       "Name: features_format, Length: 26130, dtype: object"
      ]
     },
     "execution_count": 37,
     "metadata": {},
     "output_type": "execute_result"
    }
   ],
   "source": [
    "dt['features_format']"
   ]
  },
  {
   "cell_type": "code",
   "execution_count": 38,
   "id": "007bb8f4",
   "metadata": {},
   "outputs": [],
   "source": [
    "dt = pd.concat([dt,dt['features_format'].apply(pd.Series)],axis=1)"
   ]
  },
  {
   "cell_type": "markdown",
   "id": "64050fa1",
   "metadata": {},
   "source": [
    "#### Total Area"
   ]
  },
  {
   "cell_type": "code",
   "execution_count": 39,
   "id": "f9d6b78d",
   "metadata": {},
   "outputs": [],
   "source": [
    "# dt[~dt['Total Area'].isnull()]"
   ]
  },
  {
   "cell_type": "code",
   "execution_count": 40,
   "id": "57ff96d5",
   "metadata": {},
   "outputs": [],
   "source": [
    "dt['Total Area'] = dt['Total Area'].apply(lambda x: float(str(x).replace(',','')))"
   ]
  },
  {
   "cell_type": "markdown",
   "id": "17eab498",
   "metadata": {},
   "source": [
    "#### Covered Area"
   ]
  },
  {
   "cell_type": "code",
   "execution_count": 41,
   "id": "ac80165d",
   "metadata": {},
   "outputs": [],
   "source": [
    "# dt[~dt['Covered Area'].isnull()]"
   ]
  },
  {
   "cell_type": "code",
   "execution_count": 42,
   "id": "e9f3c474",
   "metadata": {},
   "outputs": [],
   "source": [
    "dt['Covered Area'] = dt['Covered Area'].apply(lambda x: float(str(x).replace(',','')))"
   ]
  },
  {
   "cell_type": "markdown",
   "id": "bc5c93bb",
   "metadata": {},
   "source": [
    "#### Table"
   ]
  },
  {
   "cell_type": "code",
   "execution_count": 43,
   "id": "72e8b8aa",
   "metadata": {},
   "outputs": [],
   "source": [
    "dt['table_stripped'] = dt['table'].apply(lambda x: str(x).replace('<td width=\"33.33%\">','').replace('<strong>','').replace('</strong>','').replace('</td>','').replace('<td>','').replace('\\xa0','').strip())"
   ]
  },
  {
   "cell_type": "code",
   "execution_count": 44,
   "id": "beb4acce",
   "metadata": {},
   "outputs": [],
   "source": [
    "# dt['table_stripped'][0]"
   ]
  },
  {
   "cell_type": "code",
   "execution_count": 45,
   "id": "e80cd088",
   "metadata": {},
   "outputs": [],
   "source": [
    "import re\n",
    "\n",
    "def find_comma_sep_figures(string):\n",
    "    regx = '([0-9]+(,[0-9]{3})+)'\n",
    "    return [x[0] for x in re.findall(regx,string)]"
   ]
  },
  {
   "cell_type": "code",
   "execution_count": 46,
   "id": "8b79088c",
   "metadata": {},
   "outputs": [],
   "source": [
    "def replace_comma_sep_figures(string,lst):\n",
    "    lst.sort(key=len,reverse = True)\n",
    "    for x in lst:\n",
    "        y = x.replace(',','')\n",
    "        string = string.replace(x,y)\n",
    "    return string"
   ]
  },
  {
   "cell_type": "code",
   "execution_count": 47,
   "id": "48bd7a2a",
   "metadata": {},
   "outputs": [],
   "source": [
    "# xxx=['amy', 'rohan', 'sapna', 'aakash', 'raunak', 'chinmoy', 'muhammad']\n",
    "# xxx.sort(key=len,reverse = True)\n",
    "# xxx"
   ]
  },
  {
   "cell_type": "code",
   "execution_count": 48,
   "id": "3b2fffc7",
   "metadata": {},
   "outputs": [],
   "source": [
    "dt['table_cleaned'] = dt['table_stripped'].apply(lambda x: replace_comma_sep_figures(str(x),find_comma_sep_figures(str(x))))\n",
    "\n",
    "# dt['table_identified_numeric_string'] = dt['table_stripped'].apply(lambda x: find_comma_sep_figures(x))\n",
    "# dt['table_cleaned'] = dt.apply((lambda x: replace_comma_sep_figures(x.table_stripped,x.table_identified_numeric_string)),axis = 1)"
   ]
  },
  {
   "cell_type": "code",
   "execution_count": 49,
   "id": "77c1d584",
   "metadata": {},
   "outputs": [],
   "source": [
    "# dt['table_identified_numeric_string'] = dt['table_stripped'].apply(lambda x: find_comma_sep_figures(x))\n",
    "# dt['table_identified_numeric_string_count'] = dt['table_identified_numeric_string'].apply(lambda x: len(x))\n",
    "# dt[dt['table_identified_numeric_string_count'] > 0]['table_stripped']"
   ]
  },
  {
   "cell_type": "code",
   "execution_count": 50,
   "id": "dfdfb25d",
   "metadata": {},
   "outputs": [],
   "source": [
    "def convert_str_to_dict(string):\n",
    "    dct = {}\n",
    "    try:\n",
    "        for x in string.split(','):\n",
    "            if len(x) > 1:\n",
    "                y = x.split(':')\n",
    "            dct[y[0]] = y[1].strip()\n",
    "        return dct\n",
    "    except:\n",
    "        return None"
   ]
  },
  {
   "cell_type": "code",
   "execution_count": 51,
   "id": "76846b6d",
   "metadata": {},
   "outputs": [],
   "source": [
    "# for x in dt['table_cleaned'][0].split(','):\n",
    "#     print(x)\n",
    "# convert_str_to_dict(dt['table_cleaned'][0])\n",
    "# # 'Property Ref: 1296211'.split(':')[1]"
   ]
  },
  {
   "cell_type": "code",
   "execution_count": 52,
   "id": "a1717079",
   "metadata": {},
   "outputs": [],
   "source": [
    "dt['table_dict'] = dt['table_cleaned'].apply(lambda x: convert_str_to_dict(x))"
   ]
  },
  {
   "cell_type": "code",
   "execution_count": 53,
   "id": "5bfede6e",
   "metadata": {},
   "outputs": [
    {
     "data": {
      "text/plain": [
       "21730    nan\n",
       "Name: table_stripped, dtype: object"
      ]
     },
     "execution_count": 53,
     "metadata": {},
     "output_type": "execute_result"
    }
   ],
   "source": [
    "dt[dt['table_dict'].isnull()]['table_stripped']"
   ]
  },
  {
   "cell_type": "code",
   "execution_count": 54,
   "id": "e4025e3d",
   "metadata": {},
   "outputs": [],
   "source": [
    "dt = pd.concat([dt,dt['table_dict'].apply(pd.Series)],axis=1)"
   ]
  },
  {
   "cell_type": "code",
   "execution_count": 55,
   "id": "e5a166b9",
   "metadata": {},
   "outputs": [],
   "source": [
    "# strr = dt[dt['table_dict'].isnull()]['table_cleaned'][20894    ]\n",
    "# # replace_comma_sep_figures(strr,find_comma_sep_figures(strr))\n",
    "# convert_str_to_dict(replace_comma_sep_figures(strr,find_comma_sep_figures(strr)))"
   ]
  },
  {
   "cell_type": "code",
   "execution_count": 56,
   "id": "d1860e21",
   "metadata": {},
   "outputs": [
    {
     "data": {
      "text/plain": [
       "Index(['agent_name', 'agent_dets', 'agent_website', 'images', 'table', 'title',\n",
       "       'front_image', 'details_link', 'content_title', 'address',\n",
       "       'description', 'added_on', 'price', 'agent', 'agent_no', 'features',\n",
       "       'agent_dets_counts', 'agent_registration_1', 'agent_registration_2',\n",
       "       'agent_registration_3', 'agent_registration_4', 'agent_website_1',\n",
       "       'agent_website_2', 'added_on_count', 'added_on_1', 'Added', 'Updated',\n",
       "       'currency', 'features_format', 'features_count', 'Covered Area',\n",
       "       'Bedroom', 'Bathroom', 'Toilet', 'Parking Space', 'Total Area',\n",
       "       'table_stripped', 'table_cleaned', 'table_dict', 'Property Ref',\n",
       "       'Added On', 'Last Updated', 'Market Status', 'Type', 'Covered Area',\n",
       "       'Bedrooms', 'Bathrooms', 'Toilets', 'Parking Spaces', 'Total Area',\n",
       "       'Servicing', 'Service Charge', 'Furnishing'],\n",
       "      dtype='object')"
      ]
     },
     "execution_count": 56,
     "metadata": {},
     "output_type": "execute_result"
    }
   ],
   "source": [
    "dt.columns"
   ]
  },
  {
   "cell_type": "code",
   "execution_count": 57,
   "id": "c383a74e",
   "metadata": {},
   "outputs": [],
   "source": [
    "redundant_columns = ['agent_dets','agent_website','table','added_on','added_on_count','added_on_1','features','agent_dets_counts',\n",
    "                    'features_format','features_count','table_stripped','table_cleaned', 'table_dict']"
   ]
  },
  {
   "cell_type": "code",
   "execution_count": 58,
   "id": "7d999f39",
   "metadata": {},
   "outputs": [],
   "source": [
    "dt.drop(redundant_columns,axis = 1,inplace = True)"
   ]
  },
  {
   "cell_type": "code",
   "execution_count": 59,
   "id": "881b366f",
   "metadata": {},
   "outputs": [
    {
     "data": {
      "text/plain": [
       "array([nan, '₦500 per annum', '₦356000 per annum', '₦840000 per annum',\n",
       "       '₦230000 per annum', '₦240000 per annum', '₦500000 per annum',\n",
       "       '₦250000 per annum', '₦350000 per annum', '₦1200000',\n",
       "       '₦40000 per month', '₦200000 per annum', '₦1500000 per annum',\n",
       "       '₦45000 per month', '₦6000000', '₦3100000', '₦1200000 per annum',\n",
       "       '₦4000000', '₦480000 per annum', '₦76000 per annum',\n",
       "       '₦50000 per month', '₦60590 per month', '₦3000000',\n",
       "       '₦800 per annum', '₦1300000 per annum', '₦700000 per month',\n",
       "       '₦3000000 per annum', '₦700000 per annum', '₦3500000',\n",
       "       '₦750000 per annum', '₦300000 per annum', '₦1500000',\n",
       "       '₦400000 per annum', '₦12000', '₦540000 per annum', '₦100000',\n",
       "       '₦600000 per annum', '₦850000 per annum', '₦296000 per annum',\n",
       "       '₦296000', '₦45500 per month', '₦800000 per annum',\n",
       "       '₦30000 per month', '₦450000000 per annum', '₦280000 per annum',\n",
       "       '₦6666 per annum', '₦2500000 per annum', '₦450000 per annum',\n",
       "       '₦624000 per annum', '₦1100000 per annum', '₦2000000 per annum',\n",
       "       '₦3500000 per annum', '₦1000000 per annum', '₦2000000',\n",
       "       '₦5500000 per annum', '₦40000', '₦50000 per annum',\n",
       "       '₦60000 per annum', '₦110000 per annum', '₦1 per annum', '₦350000',\n",
       "       '₦10000 per annum', '₦350000000', '₦75000 per month',\n",
       "       '₦780000 per annum', '₦55000 per month', '₦5000 per month',\n",
       "       '₦35000 per month', '₦575000 per annum', '₦39000000',\n",
       "       '₦2100000 per annum', '₦100000 per annum', '₦500000',\n",
       "       '₦20000 per month', '₦1800000 per annum', '₦15000000 per month',\n",
       "       '₦800000 per month', '₦550000 per annum', '₦36000 per month',\n",
       "       '₦680000 per annum', '₦750000', '₦320000', '₦49000 per month',\n",
       "       '₦4000000 per annum', '₦300000', '₦1600000 per annum',\n",
       "       '₦1750000 per annum', '₦2900000', '₦130000 per month',\n",
       "       '₦42000 per month', '₦35000', '₦6000000 per annum',\n",
       "       '₦290000 per annum', '₦3700000', '₦170000 per annum',\n",
       "       '₦52000 per month', '₦64500 per month', '₦72000 per month',\n",
       "       '₦618000 per annum', '₦578900 per annum', '₦150000 per annum',\n",
       "       '₦70000 per month', '₦76000', '₦2400000', '₦4500000',\n",
       "       '₦25000 per month', '₦78000000', '₦48000 per annum',\n",
       "       '₦2400000 per annum', '₦850000', '₦760000 per annum',\n",
       "       '₦1250000 per annum', '₦37000 per month', '₦360000 per annum',\n",
       "       '₦320000 per annum', '₦57000 per month', '₦542000 per annum',\n",
       "       '₦68000 per month', '₦60000', '₦420000 per annum',\n",
       "       '₦41000 per month', '₦42000', '₦800000', '₦300 per annum',\n",
       "       '₦5000000', '₦275000 per annum', '₦380000 per annum',\n",
       "       '₦26000 per month', '₦420000', '₦650000 per annum',\n",
       "       '₦23000 per month', '₦38500 per month', '₦40000000 per annum',\n",
       "       '₦22000 per month', '₦280000', '₦23500 per month', '₦2500000',\n",
       "       '₦1150000 per annum', '₦4200000 per annum', '₦20000', '₦550000000',\n",
       "       '₦530000', '₦5000', '₦65000 per month', '₦32000 per month',\n",
       "       '₦180000000', '₦28000 per month', '₦18000000 per annum',\n",
       "       '₦150000000', '₦40000000', '₦969329 per annum', '₦46000 per month',\n",
       "       '₦475000 per annum', '₦50000 per day', '₦700000',\n",
       "       '$12000 (approx. ₦5231147) per annum', '₦150000',\n",
       "       '₦33250 per month', '₦100 per annum', '₦900000 per annum',\n",
       "       '₦2700000 per annum', '₦100000 per month', '₦250000 per month',\n",
       "       '₦1400000 per annum', '₦1000000'], dtype=object)"
      ]
     },
     "execution_count": 59,
     "metadata": {},
     "output_type": "execute_result"
    }
   ],
   "source": [
    "dt['Service Charge'].unique()"
   ]
  },
  {
   "cell_type": "code",
   "execution_count": 60,
   "id": "45f92487",
   "metadata": {},
   "outputs": [
    {
     "data": {
      "text/plain": [
       "array([nan, 'Serviced'], dtype=object)"
      ]
     },
     "execution_count": 60,
     "metadata": {},
     "output_type": "execute_result"
    }
   ],
   "source": [
    "dt['Servicing'].unique()"
   ]
  },
  {
   "cell_type": "code",
   "execution_count": 62,
   "id": "4e41e59e",
   "metadata": {},
   "outputs": [],
   "source": [
    "# dt['Sharing'].unique()"
   ]
  },
  {
   "cell_type": "code",
   "execution_count": 63,
   "id": "e1169cc5",
   "metadata": {},
   "outputs": [
    {
     "data": {
      "text/html": [
       "<div>\n",
       "<style scoped>\n",
       "    .dataframe tbody tr th:only-of-type {\n",
       "        vertical-align: middle;\n",
       "    }\n",
       "\n",
       "    .dataframe tbody tr th {\n",
       "        vertical-align: top;\n",
       "    }\n",
       "\n",
       "    .dataframe thead th {\n",
       "        text-align: right;\n",
       "    }\n",
       "</style>\n",
       "<table border=\"1\" class=\"dataframe\">\n",
       "  <thead>\n",
       "    <tr style=\"text-align: right;\">\n",
       "      <th></th>\n",
       "      <th>Covered Area</th>\n",
       "      <th>Covered Area</th>\n",
       "    </tr>\n",
       "  </thead>\n",
       "  <tbody>\n",
       "    <tr>\n",
       "      <th>0</th>\n",
       "      <td>500.0</td>\n",
       "      <td>500 sqm</td>\n",
       "    </tr>\n",
       "    <tr>\n",
       "      <th>1</th>\n",
       "      <td>NaN</td>\n",
       "      <td>NaN</td>\n",
       "    </tr>\n",
       "    <tr>\n",
       "      <th>2</th>\n",
       "      <td>NaN</td>\n",
       "      <td>NaN</td>\n",
       "    </tr>\n",
       "    <tr>\n",
       "      <th>3</th>\n",
       "      <td>NaN</td>\n",
       "      <td>NaN</td>\n",
       "    </tr>\n",
       "    <tr>\n",
       "      <th>4</th>\n",
       "      <td>NaN</td>\n",
       "      <td>NaN</td>\n",
       "    </tr>\n",
       "    <tr>\n",
       "      <th>...</th>\n",
       "      <td>...</td>\n",
       "      <td>...</td>\n",
       "    </tr>\n",
       "    <tr>\n",
       "      <th>26125</th>\n",
       "      <td>NaN</td>\n",
       "      <td>NaN</td>\n",
       "    </tr>\n",
       "    <tr>\n",
       "      <th>26126</th>\n",
       "      <td>NaN</td>\n",
       "      <td>NaN</td>\n",
       "    </tr>\n",
       "    <tr>\n",
       "      <th>26127</th>\n",
       "      <td>NaN</td>\n",
       "      <td>NaN</td>\n",
       "    </tr>\n",
       "    <tr>\n",
       "      <th>26128</th>\n",
       "      <td>NaN</td>\n",
       "      <td>NaN</td>\n",
       "    </tr>\n",
       "    <tr>\n",
       "      <th>26129</th>\n",
       "      <td>500.0</td>\n",
       "      <td>500 sqm</td>\n",
       "    </tr>\n",
       "  </tbody>\n",
       "</table>\n",
       "<p>26130 rows × 2 columns</p>\n",
       "</div>"
      ],
      "text/plain": [
       "      Covered Area Covered Area\n",
       "0            500.0      500 sqm\n",
       "1              NaN          NaN\n",
       "2              NaN          NaN\n",
       "3              NaN          NaN\n",
       "4              NaN          NaN\n",
       "...            ...          ...\n",
       "26125          NaN          NaN\n",
       "26126          NaN          NaN\n",
       "26127          NaN          NaN\n",
       "26128          NaN          NaN\n",
       "26129        500.0      500 sqm\n",
       "\n",
       "[26130 rows x 2 columns]"
      ]
     },
     "execution_count": 63,
     "metadata": {},
     "output_type": "execute_result"
    }
   ],
   "source": [
    "dt['Covered Area']"
   ]
  },
  {
   "cell_type": "code",
   "execution_count": 64,
   "id": "acf7dcdb",
   "metadata": {},
   "outputs": [],
   "source": [
    "dt.to_csv('Nigerian_property_sale.csv',index=None)"
   ]
  },
  {
   "cell_type": "code",
   "execution_count": null,
   "id": "bfa95b43",
   "metadata": {},
   "outputs": [],
   "source": []
  }
 ],
 "metadata": {
  "kernelspec": {
   "display_name": "Python 3 (ipykernel)",
   "language": "python",
   "name": "python3"
  },
  "language_info": {
   "codemirror_mode": {
    "name": "ipython",
    "version": 3
   },
   "file_extension": ".py",
   "mimetype": "text/x-python",
   "name": "python",
   "nbconvert_exporter": "python",
   "pygments_lexer": "ipython3",
   "version": "3.9.7"
  }
 },
 "nbformat": 4,
 "nbformat_minor": 5
}
